{
  "cells": [
    {
      "cell_type": "markdown",
      "metadata": {
        "id": "view-in-github",
        "colab_type": "text"
      },
      "source": [
        "<a href=\"https://colab.research.google.com/github/AkbarBunyad/ML_Foundations_with_tf/blob/main/Exercises/Exercise_2.ipynb\" target=\"_parent\"><img src=\"https://colab.research.google.com/assets/colab-badge.svg\" alt=\"Open In Colab\"/></a>"
      ]
    },
    {
      "cell_type": "code",
      "metadata": {
        "id": "zX4Kg8DUTKWO"
      },
      "source": [
        "#@title Licensed under the Apache License, Version 2.0 (the \"License\");\n",
        "# you may not use this file except in compliance with the License.\n",
        "# You may obtain a copy of the License at\n",
        "#\n",
        "# https://www.apache.org/licenses/LICENSE-2.0\n",
        "#\n",
        "# Unless required by applicable law or agreed to in writing, software\n",
        "# distributed under the License is distributed on an \"AS IS\" BASIS,\n",
        "# WITHOUT WARRANTIES OR CONDITIONS OF ANY KIND, either express or implied.\n",
        "# See the License for the specific language governing permissions and\n",
        "# limitations under the License."
      ],
      "execution_count": null,
      "outputs": []
    },
    {
      "cell_type": "markdown",
      "metadata": {
        "id": "tOoyQ70H00_s"
      },
      "source": [
        "## Exercise 2\n",
        "In the course you learned how to do classification using Fashion MNIST, a data set containing items of clothing. There's another, similar dataset called MNIST which has items of handwriting -- the digits 0 through 9.\n",
        "\n",
        "Write an MNIST classifier that trains to 99% accuracy or above, and does it without a fixed number of epochs -- i.e. you should stop training once you reach that level of accuracy.\n",
        "\n",
        "Some notes:\n",
        "1. It should succeed in less than 10 epochs, so it is okay to change epochs to 10, but nothing larger\n",
        "2. When it reaches 99% or greater it should print out the string \"Reached 99% accuracy so cancelling training!\"\n",
        "3. If you add any additional variables, make sure you use the same names as the ones used in the class\n",
        "\n",
        "I've started the code for you below -- how would you finish it?"
      ]
    },
    {
      "cell_type": "code",
      "execution_count": null,
      "metadata": {
        "id": "9rvXQGAA0ssC",
        "colab": {
          "base_uri": "https://localhost:8080/"
        },
        "outputId": "45ffa308-c788-4a98-fc29-d9b91a5b36a3"
      },
      "outputs": [
        {
          "output_type": "stream",
          "name": "stdout",
          "text": [
            "Epoch 1/7\n",
            "1875/1875 [==============================] - 11s 6ms/step - loss: 0.2598 - accuracy: 0.9252\n",
            "Epoch 2/7\n",
            "1875/1875 [==============================] - 9s 5ms/step - loss: 0.1158 - accuracy: 0.9659\n",
            "Epoch 3/7\n",
            "1875/1875 [==============================] - 7s 4ms/step - loss: 0.0801 - accuracy: 0.9761\n",
            "Epoch 4/7\n",
            "1875/1875 [==============================] - 9s 5ms/step - loss: 0.0602 - accuracy: 0.9814\n",
            "Epoch 5/7\n",
            "1875/1875 [==============================] - 10s 5ms/step - loss: 0.0472 - accuracy: 0.9849\n",
            "Epoch 6/7\n",
            "1875/1875 [==============================] - 10s 5ms/step - loss: 0.0372 - accuracy: 0.9883\n",
            "Epoch 7/7\n",
            "1870/1875 [============================>.] - ETA: 0s - loss: 0.0303 - accuracy: 0.9904\n",
            "Reached 99% accuracy, so stopping training!\n",
            "1875/1875 [==============================] - 8s 4ms/step - loss: 0.0302 - accuracy: 0.9904\n"
          ]
        },
        {
          "output_type": "execute_result",
          "data": {
            "text/plain": [
              "<keras.src.callbacks.History at 0x7d83df929120>"
            ]
          },
          "metadata": {},
          "execution_count": 3
        }
      ],
      "source": [
        "\n",
        "import tensorflow as tf\n",
        "mnist = tf.keras.datasets.mnist\n",
        "\n",
        "(x_train, y_train),(x_test, y_test) = mnist.load_data()\n",
        "\n",
        "class CustomCallback(tf.keras.callbacks.Callback):\n",
        "  def on_epoch_end(self, epoch, logs = None):\n",
        "    if logs.get('accuracy') > 0.99:\n",
        "      print('\\nReached 99% accuracy, so stopping training!')\n",
        "      self.model.stop_training = True\n",
        "custom_callback = CustomCallback()\n",
        "x_train = x_train/255\n",
        "x_test = x_test/255\n",
        "\n",
        "model = tf.keras.models.Sequential([tf.keras.layers.Flatten(),\n",
        "                                    tf.keras.layers.Dense(128, activation = tf.nn.relu),\\\n",
        "                                    tf.keras.layers.Dense(10, activation = tf.nn.softmax)\n",
        "])\n",
        "\n",
        "\n",
        "model.compile(optimizer='adam',\n",
        "              loss='sparse_categorical_crossentropy',\n",
        "              metrics=['accuracy'])\n",
        "model.fit(x_train, y_train, epochs = 7, callbacks = [custom_callback])\n",
        "\n"
      ]
    },
    {
      "cell_type": "code",
      "source": [],
      "metadata": {
        "id": "zfMYuFSb3jF2"
      },
      "execution_count": null,
      "outputs": []
    }
  ],
  "metadata": {
    "colab": {
      "provenance": [],
      "include_colab_link": true
    },
    "kernelspec": {
      "display_name": "Python 3",
      "name": "python3"
    }
  },
  "nbformat": 4,
  "nbformat_minor": 0
}